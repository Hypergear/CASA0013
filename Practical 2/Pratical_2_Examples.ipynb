{
 "cells": [
  {
   "cell_type": "markdown",
   "id": "8d415dec-aa5f-4efa-af80-5899db4bbe5e",
   "metadata": {},
   "source": [
    "## Python Variables\n",
    "\n",
    "- Different type of variables (integer, float, string)\n",
    "- What is a variable? How to assign variables? \n",
    "- Operators and Precedence"
   ]
  },
  {
   "cell_type": "markdown",
   "id": "a3f58520-83aa-497d-8e3d-9769975cd498",
   "metadata": {},
   "source": [
    "#### Example 1 - Variables Type"
   ]
  },
  {
   "cell_type": "code",
   "execution_count": null,
   "id": "d49e8174-834f-4e0a-9162-768f5d65ad8c",
   "metadata": {},
   "outputs": [],
   "source": [
    "a = '4'\n",
    "b = c = 2\n",
    "c = 2.8"
   ]
  },
  {
   "cell_type": "code",
   "execution_count": null,
   "id": "656005c0-4e29-4f7d-b801-9b2092291456",
   "metadata": {},
   "outputs": [],
   "source": [
    "print(\"What is a?\")\n",
    "type(a)"
   ]
  },
  {
   "cell_type": "code",
   "execution_count": null,
   "id": "b0ef110b-222a-42f1-8674-1247fc2eafae",
   "metadata": {},
   "outputs": [],
   "source": [
    "print(\"What is b?\")\n",
    "print(type(b))\n",
    "print(\"What is c?\")\n",
    "print(type(c))"
   ]
  },
  {
   "cell_type": "markdown",
   "id": "0d73ba4f-7637-4f0e-9abe-d08c962f7f08",
   "metadata": {},
   "source": [
    "#### Example 2 - Variables Assignment\n",
    "- Create an object. Can be a string, float, integer\n",
    "- Give it a characteristic. Can be a value, a name\n",
    "- Do something with it! Here, print it in the console"
   ]
  },
  {
   "cell_type": "code",
   "execution_count": null,
   "id": "22a58aa2-b25c-4fec-861a-e95059ce5e8c",
   "metadata": {},
   "outputs": [],
   "source": [
    "x = \"Hello\"\n",
    "y = \"World\"\n",
    "z = 2"
   ]
  },
  {
   "cell_type": "code",
   "execution_count": null,
   "id": "fe4084e9-eb9a-4d06-9b8a-3b10b622cda8",
   "metadata": {},
   "outputs": [],
   "source": [
    "## Str Addition\n",
    "print(\"What happen if I add 2 strings?\")\n",
    "print(x + y)\n",
    "## Str & Int Addition\n",
    "print(\"What happen if I add a string and a integer?\")\n",
    "print(x + z)"
   ]
  },
  {
   "cell_type": "code",
   "execution_count": null,
   "id": "2b53ae74-7beb-46fa-8054-30679f0d53aa",
   "metadata": {},
   "outputs": [],
   "source": [
    "print(\"Oh no, where is the space?\")\n",
    "print(x+\" \"+y)"
   ]
  },
  {
   "cell_type": "code",
   "execution_count": null,
   "id": "a3f5212b-522f-45f9-ae76-cec2550cc251",
   "metadata": {},
   "outputs": [],
   "source": [
    "## Str Multiplication\n",
    "print(\"What happen if I multiplie 2 strings?\")\n",
    "print(x*x)"
   ]
  },
  {
   "cell_type": "code",
   "execution_count": null,
   "id": "82ab6142-4981-4522-ae29-f716722d253b",
   "metadata": {},
   "outputs": [],
   "source": [
    "## Str & Int Multiplication\n",
    "print(\"What happen if I multiplie a string and a integer?\")\n",
    "print(x*z)"
   ]
  },
  {
   "cell_type": "code",
   "execution_count": null,
   "id": "849124c0-7c9d-4819-8ac5-5ea42214699a",
   "metadata": {},
   "outputs": [],
   "source": [
    "## Variables States\n",
    "a = x + y\n",
    "b = y + x\n",
    "c = a + x"
   ]
  },
  {
   "cell_type": "code",
   "execution_count": null,
   "id": "86c4b94d-bbfc-417e-bf64-ec7ea8fc3495",
   "metadata": {},
   "outputs": [],
   "source": [
    "print(a)\n",
    "print(b)\n",
    "print(c)"
   ]
  },
  {
   "cell_type": "markdown",
   "id": "f26e347c-f93d-46b0-9263-1efd634e11c1",
   "metadata": {},
   "source": [
    "#### Example 3 - Best Practice\n",
    "- Write constants in CAPITAL_LETTERS\n",
    "- Write variable, function names in lower_case\n",
    "- Don't use Python Keywords -> you will get errors!\n",
    "- A variable name must describe the information represented by the variable. Tell in words what the variables stands for.\n",
    "- Can your code be understand by someone else?\n",
    "- Look at standard conventions.\n",
    "\n",
    "Have a read here for some tips: https://towardsdatascience.com/data-scientists-your-variable-names-are-awful-heres-how-to-fix-them-89053d2855be"
   ]
  },
  {
   "cell_type": "code",
   "execution_count": null,
   "id": "cde1f224-4d94-475e-8a4c-5de427f9dfe7",
   "metadata": {},
   "outputs": [],
   "source": [
    "## What are python keywords?\n",
    "help(\"keywords\")"
   ]
  },
  {
   "cell_type": "code",
   "execution_count": null,
   "id": "5b25339e-6490-4f87-993d-ee6790609636",
   "metadata": {},
   "outputs": [],
   "source": [
    "UK_CAPITAL = \"London\"\n",
    "uk_capital = \"London\"\n",
    "UKCAPITAL = \"London\"\n",
    "ukcapital = \"London\"\n",
    "print(UK_CAPITAL,uk_capital,UKCAPITAL,ukcapital)"
   ]
  },
  {
   "cell_type": "markdown",
   "id": "403a294c-c8df-416b-87a6-bc005c929eed",
   "metadata": {},
   "source": [
    "### Python Conditions\n",
    "- Comparison Operators (bigger, smaller, equal)\n",
    "- Logic Operators (boolean, \"nested\")\n",
    "- Loop with for"
   ]
  },
  {
   "cell_type": "markdown",
   "id": "fca56494-c875-4c53-843d-7aa463cde6ac",
   "metadata": {},
   "source": [
    "#### Example 4 - Comparison Operators"
   ]
  },
  {
   "cell_type": "code",
   "execution_count": null,
   "id": "2fc0a415-6a8d-4246-87d0-8785d15cce95",
   "metadata": {},
   "outputs": [],
   "source": [
    "a = 2\n",
    "b = 4\n",
    "c = 4"
   ]
  },
  {
   "cell_type": "code",
   "execution_count": null,
   "id": "a9bbdc37-0e2e-4927-a0e6-3fe2b690f829",
   "metadata": {},
   "outputs": [],
   "source": [
    "## Comparison Operators\n",
    "print(\"Is a smaller than b?\")\n",
    "a  b\n",
    "\n",
    "print(\"Is a bigger than b?\")\n",
    "a  b\n",
    "\n",
    "print(\"Is a equal to b?\")\n",
    "a  b\n",
    "\n",
    "print(\"Is a non-equal (different) to b?\")\n",
    "a  b\n",
    "\n",
    "print(\"Is b smaller or equal to c?\")\n",
    "b  c  \n",
    "\n",
    "print(\"Is b bigger or equal to c?\")\n",
    "b  c"
   ]
  },
  {
   "cell_type": "code",
   "execution_count": null,
   "id": "418e1064-1a06-439d-bc9c-29dd0700368f",
   "metadata": {},
   "outputs": [],
   "source": [
    "## Type of Comparison Operators\n",
    "print(\"What is the type of these objects?\")\n",
    "type(a < b)"
   ]
  },
  {
   "cell_type": "markdown",
   "id": "4b902cb6-0511-431f-a21a-72e25695d3d7",
   "metadata": {},
   "source": [
    "#### Example 5 - Logic Operators (and, or, not)\n",
    "\n",
    "Alice is travelling in Europe. If t represents day, where is Alice?\n",
    "- Yesterday (t = -1) she was in ...\n",
    "- Today (t = 0) she is in ...\n",
    "- Tomorrow (t = 1) she is flying to ..."
   ]
  },
  {
   "cell_type": "code",
   "execution_count": null,
   "id": "1cbacbe3-280f-4d6e-bded-79002e0862ad",
   "metadata": {},
   "outputs": [],
   "source": [
    "t = -1\n",
    "\n",
    "if t > -1 and t < 1:\n",
    "    print(\"London\")\n",
    "\n",
    "if t > 0 or t < -1:\n",
    "    print(\"Amsterdam\")\n",
    "\n",
    "if not(t>-1):\n",
    "    print(\"Paris\")"
   ]
  },
  {
   "cell_type": "markdown",
   "id": "d5f1c767-4ba1-4924-bc10-5a3f096bf2fa",
   "metadata": {},
   "source": [
    "#### Example 6 - For Loop\n",
    "Alan is preparing for a trip in the Alps between the 20th and 27th October. Looking at his 8-day plans, he decides to do some Mountain Bike on even days and hiking on uneven days.\n",
    "\n",
    "Write a for loop for Alan that will print him the days when he hike and the days when he does mountain biking. \n",
    "\n",
    "*(Hint: use the range(start,end), Think of even and odd numbers and %(divide) operator!)*"
   ]
  },
  {
   "cell_type": "code",
   "execution_count": null,
   "id": "ec0331ff-9cef-4206-b419-798933fce8ac",
   "metadata": {},
   "outputs": [],
   "source": [
    "for day in range():\n",
    "    # do something\n",
    "    ??"
   ]
  },
  {
   "cell_type": "code",
   "execution_count": null,
   "id": "cfee4a3c-1c51-42a2-bb49-11c69326029a",
   "metadata": {},
   "outputs": [],
   "source": [
    "for day in range():\n",
    "    print(day)\n",
    "    if ...:\n",
    "        print(\"Mountain Bike\")\n",
    "    if ...:\n",
    "        print(\"Hiking\")"
   ]
  },
  {
   "cell_type": "markdown",
   "id": "1f8fcc9e-4219-432a-8887-f85b96de0663",
   "metadata": {},
   "source": [
    "### Python Lists\n",
    "- Indexing & slicing a list\n",
    "- Finding the position of items & Ordering items (alphabetical, values)\n",
    "- Adding, removing items of a list"
   ]
  },
  {
   "cell_type": "markdown",
   "id": "d3e803b5-4c82-4189-9a57-67b2c91544fd",
   "metadata": {},
   "source": [
    "#### Example 7 - List Indexing & Slicing"
   ]
  },
  {
   "cell_type": "code",
   "execution_count": null,
   "id": "9b539a4b-7ee4-4261-bfa9-08be58efff65",
   "metadata": {},
   "outputs": [],
   "source": [
    "london_boroughs = ['Camden','Hackney','Southwark','Westminster','Brent']\n",
    "\n",
    "print('How many London boroughs are in this list?')\n",
    "print()\n",
    "\n",
    "print('What is positive indexing? What boroughs will I get')\n",
    "print(london_boroughs[2])\n",
    "print(london_boroughs[2:3])\n",
    "\n",
    "print('What is positive indexing? What boroughs will I get')\n",
    "print(london_boroughs[-4])\n",
    "\n",
    "print(\"The London boroughs without Hackney?\")\n",
    "lnd_boroughs_wo_hackney = ...\n",
    "print(lnd_boroughs_wo_hackney)"
   ]
  },
  {
   "cell_type": "markdown",
   "id": "05e888e4-3d35-4049-8a1a-af521ee580b6",
   "metadata": {},
   "source": [
    "#### Example 8 - List Position & Ordering"
   ]
  },
  {
   "cell_type": "code",
   "execution_count": null,
   "id": "a4fffebb-7578-44af-a422-a7851e49b054",
   "metadata": {},
   "outputs": [],
   "source": [
    "print(\"What is the position of Brent in the list?\")\n",
    "london_boroughs.index(\"...\")"
   ]
  },
  {
   "cell_type": "code",
   "execution_count": null,
   "id": "2d4227e7-11aa-4b58-8b34-0b17f03ea1dd",
   "metadata": {},
   "outputs": [],
   "source": [
    "for i in london_boroughs:\n",
    "        print(london_boroughs.index(i),i)"
   ]
  },
  {
   "cell_type": "code",
   "execution_count": null,
   "id": "a008d088-13c9-401f-a268-1880b7817c21",
   "metadata": {},
   "outputs": [],
   "source": [
    "## list.sort and sorted(list) Function\n",
    "london_boroughs.sort(reverse=True)\n",
    "print(london_boroughs)\n",
    "print(sorted(london_boroughs))"
   ]
  },
  {
   "cell_type": "code",
   "execution_count": null,
   "id": "4e4d4d5f-6abd-4e8f-9817-9687dee0da00",
   "metadata": {},
   "outputs": [],
   "source": [
    "## Append, Insert, Extend\n",
    "new_borough = 'Lambeth'\n",
    "\n",
    "london_boroughs.append(new_borough)\n",
    "print(london_boroughs)\n",
    "\n",
    "new_borough = 'Haringey'\n",
    "london_boroughs.insert(2,new_borough)\n",
    "print(london_boroughs)\n",
    "\n",
    "new_boroughs = ['Islington','Newham']\n",
    "london_boroughs.extend(new_boroughs)\n",
    "print(london_boroughs)"
   ]
  },
  {
   "cell_type": "markdown",
   "id": "ddaf327a-c512-4a28-a5f6-eba60b2cd721",
   "metadata": {},
   "source": [
    "### Programming Paradigm\n",
    "##### Object-oriented Language & Procedural Programming! What does this mean?\n",
    "- ##### Object-Oriented: \n",
    "    - \"A means to structure programs so that properties and behaviors are bundles into individual objects!\"\n",
    "\n",
    "- ##### Procedural: \n",
    "    - \"A way to structure program like a recipe in that it provides a set of steps, in the form of function sand code blocks, that flow sequentially in order to complete a task\"\n",
    "\n",
    "##### What do objects represent?\n",
    "- a character and its characteristics (properties and behaviours)\n",
    "- Examples: \n",
    "    - A city with its name, population, location and behaviours such as trade relations\n",
    "    - A person with its age, email, institution and behaviours such as walking, running, talking\n",
    "\n",
    "Object-oriented programming allow for modeling concrete, real-world things as well as the relations between things. Think of identifying a taxi, of looking at the relations between companies and employees, and may more!"
   ]
  }
 ],
 "metadata": {
  "kernelspec": {
   "display_name": "Python 3 (ipykernel)",
   "language": "python",
   "name": "python3"
  },
  "language_info": {
   "codemirror_mode": {
    "name": "ipython",
    "version": 3
   },
   "file_extension": ".py",
   "mimetype": "text/x-python",
   "name": "python",
   "nbconvert_exporter": "python",
   "pygments_lexer": "ipython3",
   "version": "3.9.6"
  }
 },
 "nbformat": 4,
 "nbformat_minor": 5
}

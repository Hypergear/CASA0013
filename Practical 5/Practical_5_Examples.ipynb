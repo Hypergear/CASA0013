{
 "cells": [
  {
   "cell_type": "markdown",
   "id": "22bba788-648a-44ce-b5ad-f87b5944f40c",
   "metadata": {},
   "source": [
    "## Practical 5 - Examples\n",
    "\n",
    "- From list to dictionary to pandas dataframe\n",
    "- View basics metrics of a dataframe\n",
    "- Select specific data points of a dataframe"
   ]
  },
  {
   "cell_type": "markdown",
   "id": "d256d0ba-479a-4d92-ad80-9c61eec079fb",
   "metadata": {},
   "source": [
    "### Step 1 - Review Dictionaries"
   ]
  },
  {
   "cell_type": "code",
   "execution_count": null,
   "id": "3deb2736-ba12-4592-8f37-d8ab10d0ff67",
   "metadata": {},
   "outputs": [],
   "source": [
    "# Create 3 lists\n",
    "city = ['Lausanne','London','Florence','Lyon','Rotterdam','Berlin']\n",
    "country = ['Switzerland','England','Italy','France','Netherlands','Germany']\n",
    "country_code = ['CH','UK','IT','FR','NL','DE']"
   ]
  },
  {
   "cell_type": "code",
   "execution_count": null,
   "id": "24ef09e4-af11-4aab-a81b-9b853b270f2c",
   "metadata": {},
   "outputs": [],
   "source": [
    "# Create a dictionary from the 3 above lists\n",
    "eu_dict = {'city':city,'country':country,'country_code':country_code}"
   ]
  },
  {
   "cell_type": "code",
   "execution_count": null,
   "id": "c0815ad6-8615-422f-8818-895b137f3722",
   "metadata": {},
   "outputs": [],
   "source": [
    "# How to find out in which country is Florence?\n",
    "\n",
    "# 1. First let find the index related to Florence\n",
    "index_florence = eu_dict['city'].index('Florence')\n",
    "print(f'Florence data are related to index number {index_florence}')\n",
    "\n",
    "# 2. Then use the index to find in which country is Florence\n",
    "country_florence = eu_dict['country'][index_florence]\n",
    "print(f'Florence is located in {country_florence}')"
   ]
  },
  {
   "cell_type": "markdown",
   "id": "8b480b93-b2b5-486d-85da-7044438a3e57",
   "metadata": {},
   "source": [
    "### Step 2 - From lists and dictionaries to Pandas Dataframe\n",
    "\n",
    "- From one list to a dataframe\n",
    "- From multiple lists to a dataframe\n",
    "- What are the similarity between creating dictionaries and dataframes?\n",
    "- From dictionary to dataframe"
   ]
  },
  {
   "cell_type": "code",
   "execution_count": null,
   "id": "5f6216b0-01b7-4014-aff0-8ab6cb1347df",
   "metadata": {},
   "outputs": [],
   "source": [
    "import pandas as pd"
   ]
  },
  {
   "cell_type": "code",
   "execution_count": null,
   "id": "f89be3ec-7e7d-44f7-b1ba-1e9d29411eca",
   "metadata": {
    "tags": []
   },
   "outputs": [],
   "source": [
    "# Create a dataframe from a list\n",
    "v0_city_df = pd.DataFrame(city)\n",
    "v0_city_df"
   ]
  },
  {
   "cell_type": "code",
   "execution_count": null,
   "id": "3436582f-dfba-4e65-9661-668e58385914",
   "metadata": {
    "tags": []
   },
   "outputs": [],
   "source": [
    "# Create a dataframe using multiple lists!\n",
    "v1_eu_df = pd.DataFrame(list(zip(city, country, country_code)))\n",
    "v1_eu_df"
   ]
  },
  {
   "cell_type": "markdown",
   "id": "02cb8266-ae71-47e4-8373-4c527c31110f",
   "metadata": {},
   "source": [
    "##### **With dictionary we define *KEYS* - With dataframe we define *COLUMN NAMES***"
   ]
  },
  {
   "cell_type": "code",
   "execution_count": null,
   "id": "12ea49ed-e049-453a-b5ce-86416be1eb5c",
   "metadata": {},
   "outputs": [],
   "source": [
    "# Define column names while creating a dataframe\n",
    "v0_city_df = pd.DataFrame(city, columns=['city'])\n",
    "\n",
    "v1_eu_df = pd.DataFrame(list(zip(city, country, country_code)),\n",
    "                         columns = ['City','Country','Country_Code'])"
   ]
  },
  {
   "cell_type": "code",
   "execution_count": null,
   "id": "87da40b3-154f-4d55-aa69-7cb81629620a",
   "metadata": {
    "tags": []
   },
   "outputs": [],
   "source": [
    "v0_city_df"
   ]
  },
  {
   "cell_type": "code",
   "execution_count": null,
   "id": "4977e53a-339b-4f38-9e13-4bf6db46864c",
   "metadata": {
    "tags": []
   },
   "outputs": [],
   "source": [
    "v1_eu_df"
   ]
  },
  {
   "cell_type": "code",
   "execution_count": null,
   "id": "dbf02788-b54b-4815-acae-52c1e1b662f1",
   "metadata": {
    "tags": []
   },
   "outputs": [],
   "source": [
    "# Create a dataframe from a dictionary (here we use the predefined eu_dict)\n",
    "v2_eu_df = pd.DataFrame(eu_dict)\n",
    "v2_eu_df\n",
    "\n",
    "## Let's rename the dataframe for futher use!\n",
    "df = v2_eu_df"
   ]
  },
  {
   "cell_type": "markdown",
   "id": "41b6dfc5-d986-4106-87dc-2866f9a16f43",
   "metadata": {},
   "source": [
    "### Step 3 - Adding values to Pandas DataFrame\n",
    "- Understand the different in-built pandas function:\n",
    "    - pd.concat()\n",
    "    - df.append()\n",
    "    - df.iloc[]\n",
    "    - df.loc[]\n",
    "\n",
    "**Keep in Mind**\n",
    "- Add a row to a dataframe: ***To add a row to a dataframe, you need to already know the columns of the dataframe***\n",
    "- Read more: https://www.stackvidhya.com/add-row-to-dataframe/"
   ]
  },
  {
   "cell_type": "markdown",
   "id": "e625ed9f-ba65-45f2-992b-85a22b717836",
   "metadata": {},
   "source": [
    "##### Find the Columns of a Dataframe"
   ]
  },
  {
   "cell_type": "code",
   "execution_count": null,
   "id": "3e969f63-9167-44de-98cd-d22522a79b82",
   "metadata": {},
   "outputs": [],
   "source": [
    "# Option 1 - Call .columns\n",
    "df.columns"
   ]
  },
  {
   "cell_type": "code",
   "execution_count": null,
   "id": "1dd76d80-68af-4260-887c-980f2503307a",
   "metadata": {},
   "outputs": [],
   "source": [
    "# Option 2 - Call .head() - 0 indicate the number of rows to print. \n",
    "df.head(0)\n",
    "df[0]"
   ]
  },
  {
   "cell_type": "code",
   "execution_count": null,
   "id": "64c20ae1-9e27-46eb-b9bc-8821b3cab362",
   "metadata": {},
   "outputs": [],
   "source": [
    "# Let's create a list and a dictionary for our following examples!\n",
    "row_madrid = ['Madrid','Spain','ES']\n",
    "dict_madrid = {'city':['Madrid'],'country':['Spain'],'country_code':['ES']}"
   ]
  },
  {
   "cell_type": "markdown",
   "id": "5b1a751d-19d4-42e2-90b1-7d3fc854c281",
   "metadata": {},
   "source": [
    "#### Overview - pd.concat()\n",
    "\n",
    "Parameters with concat():\n",
    "- Concatenates two dataframes into one! \n",
    "- Take list of dataframes that need to be concatenated\n",
    "- axix=0 Mean that rows of the dataframe need to be converted."
   ]
  },
  {
   "cell_type": "code",
   "execution_count": null,
   "id": "19ab6e7e-e5d1-4d7f-b392-5f00ee464407",
   "metadata": {
    "tags": []
   },
   "outputs": [],
   "source": [
    "# Let's try to use concat() with a list! \n",
    "df_concat = pd.concat([df,row_madrid])\n",
    "df_concat"
   ]
  },
  {
   "cell_type": "code",
   "execution_count": null,
   "id": "4491136c-a1a5-49a6-870c-f112975b66f7",
   "metadata": {
    "tags": []
   },
   "outputs": [],
   "source": [
    "# Let's try to use concat() with a pd.Series! \n",
    "df_concat = pd.concat([df,(pd.DataFrame(dict_madrid))], ignore_index = True, axis = 0)\n",
    "df_concat"
   ]
  },
  {
   "cell_type": "markdown",
   "id": "51df5a0d-75d7-45b1-a1b4-7cefd27609dc",
   "metadata": {
    "tags": []
   },
   "source": [
    "#### Overview - df.append() \n",
    "\n",
    "Parameters with append():\n",
    "- take a dictionary, a pandas series or a dataframe as \"new row\" object. Does not work with lists\n",
    "- \"ignore_index = True\" Index of the target df will be used."
   ]
  },
  {
   "cell_type": "code",
   "execution_count": null,
   "id": "9999b52c-7ffe-4e8a-a133-77e902d6495d",
   "metadata": {
    "tags": []
   },
   "outputs": [],
   "source": [
    "# Let's try to use append with a list! \n",
    "v0_df_append = df.append(row_madrid)\n",
    "v0_df_append"
   ]
  },
  {
   "cell_type": "code",
   "execution_count": null,
   "id": "be3a53ef-5714-4063-a819-8ed81e6ddcf0",
   "metadata": {
    "tags": []
   },
   "outputs": [],
   "source": [
    "# Let's try to use append with a dictionary! \n",
    "v1_df_append = df.append(dict_madrid)\n",
    "v1_df_append"
   ]
  },
  {
   "cell_type": "code",
   "execution_count": null,
   "id": "3ee1e208-8601-4bbf-bb5d-e1c2652a43bf",
   "metadata": {
    "tags": []
   },
   "outputs": [],
   "source": [
    "# Let's try to use append with a dictionary and add ingore_index! \n",
    "v1_df_append = df.append(dict_madrid, ignore_index=True)\n",
    "v1_df_append"
   ]
  },
  {
   "cell_type": "markdown",
   "id": "5e758764-8177-4b64-903d-b0d735cc1a5a",
   "metadata": {},
   "source": [
    "#### Overview - iloc[] \n",
    "\n",
    "Parameters with iloc[]:\n",
    "- Add a row in the dataframe using **integer-based index** \n",
    "- Use iloc[] to assign new rows at a specific interger index (e.g 0,1,2). \n",
    "- iloc[] DOES NOT expand the size of the dataframe automatically. Use iloc[] to add a row ONLY IF the dataframe have already a row in the position, can be an empty row."
   ]
  },
  {
   "cell_type": "code",
   "execution_count": null,
   "id": "0b17f8c6-953e-4538-a9c0-9f3bd2e9bada",
   "metadata": {},
   "outputs": [],
   "source": [
    "# Let's see what is the length of our dataframe\n",
    "print(f'The lenght of our dataframe is {len(df)}')"
   ]
  },
  {
   "cell_type": "code",
   "execution_count": null,
   "id": "6977c0ee-3758-4e60-be0e-c02f7b16ad30",
   "metadata": {
    "tags": []
   },
   "outputs": [],
   "source": [
    "# Let's try to add the Madrid row at index 6 (Remember len()-1)!\n",
    "df.iloc[6] = row_madrid"
   ]
  },
  {
   "cell_type": "code",
   "execution_count": null,
   "id": "1ae07c60-fe0f-4503-96fb-82ba15400d23",
   "metadata": {
    "tags": []
   },
   "outputs": [],
   "source": [
    "# Ok! Let's add the Madrid city row at Berlin index 5!\n",
    "print(\"Our current dataset is:\")\n",
    "print(df)\n",
    "\n",
    "print(\"\")\n",
    "print(\"Our new dataset is: \")\n",
    "df.iloc[5] = row_madrid\n",
    "print(df)"
   ]
  },
  {
   "cell_type": "markdown",
   "id": "f588756c-fbe1-43ec-bba9-0f24ace9f8c2",
   "metadata": {},
   "source": [
    "#### Overview - loc[] \n",
    "\n",
    "Parameters with loc[]:\n",
    "- Add a row in the dataframe using **index label**\n",
    "- Use loc[] to assign new rows with a specific index label (e.g \"a\",\"b\",\"c\"). \n",
    "- loc[] DOES expand the size of the dataframe automatically. Unlike iloc[] method."
   ]
  },
  {
   "cell_type": "code",
   "execution_count": null,
   "id": "c4be1f50-1bb9-46de-a4bf-83db33c92662",
   "metadata": {
    "tags": []
   },
   "outputs": [],
   "source": [
    "# Let's add Berlin row back to our dataframe and add a few other cities!\n",
    "row_berlin = ['Berlin','Germany','DE']\n",
    "df.loc[0] = row_berlin\n",
    "\n",
    "# Add a row at a specific index label!\n",
    "print(df)"
   ]
  },
  {
   "cell_type": "code",
   "execution_count": null,
   "id": "1f449c3a-b8cb-41ec-a260-2b487f6349fd",
   "metadata": {},
   "outputs": [],
   "source": [
    "#Let's add some other cities to our dataframe! \n",
    "cities_germany = pd.DataFrame({'city':['Munich','Hamburg','Frankfurt','Dresden'],\n",
    "                               'country':['Germany','Germany','Germany','Germany'],\n",
    "                               'country_code':['DE','DE','DE','DE']})\n",
    "df = df.append(cities_germany, ignore_index=True)\n",
    "df"
   ]
  },
  {
   "cell_type": "markdown",
   "id": "b9e64dac-36eb-431c-a79d-a746dab8cc1f",
   "metadata": {},
   "source": [
    "#### Overview - Add a column to a dataframe\n",
    "\n",
    "- By using insert(), loc[], concat()"
   ]
  },
  {
   "cell_type": "code",
   "execution_count": null,
   "id": "bde996a9-20ee-4f89-ba74-7d337fd201c8",
   "metadata": {},
   "outputs": [],
   "source": [
    "## Find out the shape of our dataframe\n",
    "df.shape"
   ]
  },
  {
   "cell_type": "code",
   "execution_count": null,
   "id": "e711f086-2380-483e-89d7-05e0a3804492",
   "metadata": {
    "tags": []
   },
   "outputs": [],
   "source": [
    "## By using insert()\n",
    "df.insert(loc=3, column='lat', value=[52.52, 51.50, 43.77, 45.76, 51.92, 40.41, 48.14, 53.55, 50.11, 51.05])\n",
    "df"
   ]
  },
  {
   "cell_type": "code",
   "execution_count": null,
   "id": "45d4a97d-7834-490c-82fd-fc8521920e32",
   "metadata": {
    "tags": []
   },
   "outputs": [],
   "source": [
    "## By using loc[]\n",
    "df.loc[:, \"long\"] = [13.41, 0.13, 11.26, 4.84, 4.48, 3.70, 11.58, 9.99, 8.68, 13.73]\n",
    "df"
   ]
  },
  {
   "cell_type": "code",
   "execution_count": null,
   "id": "ae7d6ea8-daed-4cf2-9d95-89998ed2d711",
   "metadata": {
    "tags": []
   },
   "outputs": [],
   "source": [
    "## By using df['...']\n",
    "df['time_zone'] = ['GMT+1', 'GMT+0', 'GMT+1','GMT+1','GMT+1','GMT+1','GMT+1','GMT+1','GMT+1','GMT+1']\n",
    "df['population'] = [3645000, 8982000, 382258, 513275, 624652, 3223000, 1472000, 1841000, 753056,554649]\n",
    "df"
   ]
  },
  {
   "cell_type": "code",
   "execution_count": null,
   "id": "01f8f684-96ce-46dd-935f-921228d15d00",
   "metadata": {
    "tags": []
   },
   "outputs": [],
   "source": [
    "# Let's create a set of tuple to add lat, long to our dataframe!\n",
    "latlong = [(52.52, 13.41),(51.50, 0.13),(43.77, 11.26), \n",
    "            (45.76, 4.84),(51.92, 4.48),(40.41, 3.70)]\n",
    "latlong"
   ]
  },
  {
   "cell_type": "code",
   "execution_count": null,
   "id": "6ae8691f-6564-44a0-b8c1-85dfb855aacc",
   "metadata": {
    "tags": []
   },
   "outputs": [],
   "source": [
    "# Let's transform our set of tuples into a datframe with 2 columns\n",
    "df_latlong = pd.DataFrame(latlong, columns = ['lat','long'])\n",
    "df_latlong"
   ]
  },
  {
   "cell_type": "code",
   "execution_count": null,
   "id": "e5fe3902-7b42-4356-874d-a1611e24a784",
   "metadata": {
    "tags": []
   },
   "outputs": [],
   "source": [
    "# Concat our two dataframes into one!\n",
    "# What was our steps? \n",
    "### 1. Create a dataframe from a set of tuples\n",
    "### 2. Concat both dataframes into a new one\n",
    "df_new = pd.concat([df, df_latlong], axis=1)\n",
    "df_new"
   ]
  },
  {
   "cell_type": "markdown",
   "id": "24214c19-4e14-460c-bae3-15078ab04f0e",
   "metadata": {},
   "source": [
    "### Step 4 - Exploratory Data Analysis with Pandas\n",
    "1. Open dataset pd.read_csv()\n",
    "2. Basics metrics of the dataset df.shape\n",
    "3. Discover dataset\n",
    "4. Visualise dataset"
   ]
  },
  {
   "cell_type": "markdown",
   "id": "9cb68af5-f18b-4c5d-b5c3-333bed720fd4",
   "metadata": {},
   "source": [
    "#### Basics metrics \n",
    "- len(df) and df.shape \n",
    "- df.head() and df.tail() - View the 5 first and 5 last rows of a df\n",
    "- df.info() - View all column names an their data types\n",
    "- df.describe() - Get a sense of the values in a df"
   ]
  },
  {
   "cell_type": "code",
   "execution_count": null,
   "id": "c736f716-d652-4690-a0e9-19421e36b175",
   "metadata": {},
   "outputs": [],
   "source": [
    "## View the length and shape (row x columns) of a df\n",
    "length_df = len(df)\n",
    "shape_df = df.shape\n",
    "print(f'The length (number of row) of the dataframe is {length_df}.')\n",
    "print(f'The shape (nb. of rows x columns) of the dataframe is {shape_df}.')"
   ]
  },
  {
   "cell_type": "code",
   "execution_count": null,
   "id": "5d567928-48de-4d34-ba22-760b649dc04a",
   "metadata": {
    "tags": []
   },
   "outputs": [],
   "source": [
    "# Get an idea of the df!\n",
    "df.head()"
   ]
  },
  {
   "cell_type": "code",
   "execution_count": null,
   "id": "ddbde3d5-0fee-46f3-ae39-f25c3fb0ebb1",
   "metadata": {
    "tags": []
   },
   "outputs": [],
   "source": [
    "## Display all columns and their data types\n",
    "df.info()"
   ]
  },
  {
   "cell_type": "code",
   "execution_count": null,
   "id": "7de2ed6b-d6d8-4135-a524-bc6481526129",
   "metadata": {
    "tags": []
   },
   "outputs": [],
   "source": [
    "## Basic descriptive statics for all numeric columns\n",
    "df.describe()"
   ]
  },
  {
   "cell_type": "code",
   "execution_count": null,
   "id": "82025baf-8f09-4e4d-99f8-eed7dbb341c6",
   "metadata": {},
   "outputs": [],
   "source": [
    "# Find only the row for the city of Madrid. \n",
    "df[df['city']== 'Lyon']"
   ]
  },
  {
   "cell_type": "code",
   "execution_count": null,
   "id": "21897643-f03c-4c3d-aa53-eb1ce5511bc4",
   "metadata": {},
   "outputs": [],
   "source": [
    "## Find out the row in the dataframe situated the further south!\n",
    "df[df['lat'] == df['lat'].min()]"
   ]
  },
  {
   "cell_type": "code",
   "execution_count": null,
   "id": "0d7a9c30-2ad1-4ef0-b639-de702677d6e8",
   "metadata": {},
   "outputs": [],
   "source": [
    "## Find out the row in the dataframe situated the further east!\n",
    "df[df['long'] == df['long'].max()]"
   ]
  },
  {
   "cell_type": "code",
   "execution_count": null,
   "id": "9ba2247a-5f87-4a23-8be7-77ec4694fcd5",
   "metadata": {},
   "outputs": [],
   "source": [
    "## Find out the cities with a population greater than 1 million people\n",
    "df[df['population'] > 1000000]"
   ]
  },
  {
   "cell_type": "code",
   "execution_count": null,
   "id": "c53a8921-d7f0-4b43-bd43-46a4fe94a7ec",
   "metadata": {},
   "outputs": [],
   "source": [
    "## Find out the cities with less than 500,000 habitants.\n",
    "df[df['population'] < 500000]"
   ]
  },
  {
   "cell_type": "markdown",
   "id": "33bfd4bc-414d-4b6e-93fe-72785b9ae769",
   "metadata": {},
   "source": [
    "##### Explore .count() and .value_counts()"
   ]
  },
  {
   "cell_type": "code",
   "execution_count": null,
   "id": "994df908-9237-4e97-bd72-2260a5c926fe",
   "metadata": {},
   "outputs": [],
   "source": [
    "df['country'].count()"
   ]
  },
  {
   "cell_type": "code",
   "execution_count": null,
   "id": "76f12caa-bacc-4494-aac0-26c966289584",
   "metadata": {
    "tags": []
   },
   "outputs": [],
   "source": [
    "# What is the difference between count() and value_counts()\n",
    "print('Using the .count() method:')\n",
    "print(df['country'].count())\n",
    "print(\"\")\n",
    "print('Using the .value_counts() method:')\n",
    "print(df['country'].value_counts())"
   ]
  },
  {
   "cell_type": "code",
   "execution_count": null,
   "id": "9f5b3e22-1423-4741-92b9-10daa3cdbf61",
   "metadata": {},
   "outputs": [],
   "source": [
    "## What does the parameter \"ascending\" do?\n",
    "df['country'].value_counts(ascending=True)"
   ]
  },
  {
   "cell_type": "code",
   "execution_count": null,
   "id": "05e01fb5-c5b7-4be5-972f-a34de1f17daa",
   "metadata": {},
   "outputs": [],
   "source": [
    "## What does the parameter sort_index(ascending)\" do?\n",
    "df['country'].value_counts().sort_index(ascending=True)"
   ]
  },
  {
   "cell_type": "code",
   "execution_count": null,
   "id": "71a9db6e-84c3-4708-8cf5-053878006e84",
   "metadata": {},
   "outputs": [],
   "source": [
    "## What does the parameter .to_frame() do?\n",
    "df['country'].value_counts().sort_index(ascending=True).to_frame()"
   ]
  },
  {
   "cell_type": "markdown",
   "id": "a85fdae0-1ea3-41f1-ab0c-943dd2a22731",
   "metadata": {},
   "source": [
    "##### Explore groupby() -> Think of it as \"Split-Apply-Combine\""
   ]
  },
  {
   "cell_type": "code",
   "execution_count": null,
   "id": "c026e645-6f6f-4b9e-b85e-561af1075b88",
   "metadata": {},
   "outputs": [],
   "source": [
    "df.groupby('country')"
   ]
  },
  {
   "cell_type": "code",
   "execution_count": null,
   "id": "402a8a8c-f70a-48e2-b512-fe1fc2f6c79a",
   "metadata": {},
   "outputs": [],
   "source": [
    "# Ok! The .groupby() alone doesn't do any operations! We use to do something more!\n",
    "# Think of the split, apply, combine\n",
    "# Split the df by country\n",
    "# Apply to each country df some operations - here count the city\n",
    "# Combine the results!\n",
    "df.groupby('country')['city'].value_counts()"
   ]
  },
  {
   "cell_type": "markdown",
   "id": "4126be4e-1042-40d0-8d44-56408b082ae2",
   "metadata": {},
   "source": [
    "## Step 5 - Practical\n",
    "- Open Dataset\n",
    "- Explore value_counts(), groupby()\n",
    "- Explore matplotlib"
   ]
  },
  {
   "cell_type": "code",
   "execution_count": null,
   "id": "bd47a19b-0387-4c3d-b828-cd90a4701abf",
   "metadata": {},
   "outputs": [],
   "source": [
    "# Set download URL\n",
    "# You may want to check that this shows you 'raw' data if you\n",
    "# get errors about the first line being HTML!\n",
    "url = 'https://github.com/jreades/i2p/raw/master/data/src/2020-08-24-listings.csv.gz'\n",
    "\n",
    "# your code here\n",
    "import pandas as pd\n",
    "df = pd.read_csv(url, compression='gzip', low_memory=False)"
   ]
  },
  {
   "cell_type": "code",
   "execution_count": null,
   "id": "bda88726-53d6-40a0-bffb-5e86de73ccb0",
   "metadata": {},
   "outputs": [],
   "source": [
    "df.shape"
   ]
  },
  {
   "cell_type": "code",
   "execution_count": null,
   "id": "81dea884-e6f0-4a0b-b18b-d499799f8942",
   "metadata": {},
   "outputs": [],
   "source": [
    "## Here we have 74 columns - the screen will not display all columns. \n",
    "## We can confifure pandas to display all columns\n",
    "pd.set_option(\"display.max.columns\", None)"
   ]
  }
 ],
 "metadata": {
  "kernelspec": {
   "display_name": "Python 3 (ipykernel)",
   "language": "python",
   "name": "python3"
  },
  "language_info": {
   "codemirror_mode": {
    "name": "ipython",
    "version": 3
   },
   "file_extension": ".py",
   "mimetype": "text/x-python",
   "name": "python",
   "nbconvert_exporter": "python",
   "pygments_lexer": "ipython3",
   "version": "3.9.6"
  }
 },
 "nbformat": 4,
 "nbformat_minor": 5
}

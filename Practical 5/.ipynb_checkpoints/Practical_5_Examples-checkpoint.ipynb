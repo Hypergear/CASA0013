{
 "cells": [
  {
   "cell_type": "markdown",
   "id": "22bba788-648a-44ce-b5ad-f87b5944f40c",
   "metadata": {},
   "source": [
    "### Practical 5 - Examples\n",
    "\n",
    "- Pandas DataFrame\n",
    "- Pandas Serie"
   ]
  },
  {
   "cell_type": "markdown",
   "id": "d256d0ba-479a-4d92-ad80-9c61eec079fb",
   "metadata": {},
   "source": [
    "#### Step 1 - Review Dictionaries"
   ]
  },
  {
   "cell_type": "code",
   "execution_count": null,
   "id": "3deb2736-ba12-4592-8f37-d8ab10d0ff67",
   "metadata": {},
   "outputs": [],
   "source": [
    "# Create 3 lists\n",
    "city = ['Lausanne','London','Florence','Lyon','Roterdam','Berlin']\n",
    "country = ['Switzerland','England','Italy','France','Neatherland','Germany']\n",
    "country_code = ['CH','UK','IT','FR','NL','DE']"
   ]
  },
  {
   "cell_type": "code",
   "execution_count": null,
   "id": "24ef09e4-af11-4aab-a81b-9b853b270f2c",
   "metadata": {},
   "outputs": [],
   "source": [
    "# Create a dictionary from the 3 above lists\n",
    "eu_dict = {'city':city,'country':country,'country_code':country_code}"
   ]
  },
  {
   "cell_type": "code",
   "execution_count": null,
   "id": "c0815ad6-8615-422f-8818-895b137f3722",
   "metadata": {},
   "outputs": [],
   "source": [
    "# How to find out in which country is Florence?\n",
    "\n",
    "# 1. First let find the index related to Florence\n",
    "index_florence = eu_dict['city'].index('Florence')\n",
    "print(f'Florence data are related to index number {index_florence}')\n",
    "\n",
    "# 2. Then use the index to find in which country is Florence\n",
    "country_florence = eu_dict['country'][index_florence]\n",
    "print(f'Florence is located in {country_florence}')"
   ]
  },
  {
   "cell_type": "markdown",
   "id": "8b480b93-b2b5-486d-85da-7044438a3e57",
   "metadata": {},
   "source": [
    "#### Step 2 - From lists and dictionaries to Pandas Dataframe\n",
    "\n",
    "- From one list to a dataframe\n",
    "- From multiple lists to a dataframe\n",
    "- What are the similarity between creating dictionaries and dataframes?\n",
    "- From dictionary to dataframe"
   ]
  },
  {
   "cell_type": "code",
   "execution_count": null,
   "id": "5f6216b0-01b7-4014-aff0-8ab6cb1347df",
   "metadata": {},
   "outputs": [],
   "source": [
    "import pandas as pd"
   ]
  },
  {
   "cell_type": "code",
   "execution_count": null,
   "id": "f89be3ec-7e7d-44f7-b1ba-1e9d29411eca",
   "metadata": {},
   "outputs": [],
   "source": [
    "# Create a dataframe from a list\n",
    "v0_city_df = pd.DataFrame(city)\n",
    "v0_city_df"
   ]
  },
  {
   "cell_type": "code",
   "execution_count": null,
   "id": "3436582f-dfba-4e65-9661-668e58385914",
   "metadata": {},
   "outputs": [],
   "source": [
    "# Create a dataframe using multiple lists!\n",
    "v1_eu_df = pd.DataFrame(list(zip(city, country, country_code)))\n",
    "v1_eu_df"
   ]
  },
  {
   "cell_type": "markdown",
   "id": "02cb8266-ae71-47e4-8373-4c527c31110f",
   "metadata": {},
   "source": [
    "##### **With dictionary we define *KEYS* - With dataframe we define *COLUMN NAMES***"
   ]
  },
  {
   "cell_type": "code",
   "execution_count": null,
   "id": "12ea49ed-e049-453a-b5ce-86416be1eb5c",
   "metadata": {},
   "outputs": [],
   "source": [
    "# Define column names while creating a dataframe\n",
    "v0_city_df = pd.DataFrame(city, columns=['city'])\n",
    "\n",
    "v1_eu_df = pd.DataFrame(list(zip(city, country, country_code)),\n",
    "                         columns = ['City','Country','Country_Code'])"
   ]
  },
  {
   "cell_type": "code",
   "execution_count": null,
   "id": "87da40b3-154f-4d55-aa69-7cb81629620a",
   "metadata": {},
   "outputs": [],
   "source": [
    "v0_city_df"
   ]
  },
  {
   "cell_type": "code",
   "execution_count": null,
   "id": "4977e53a-339b-4f38-9e13-4bf6db46864c",
   "metadata": {},
   "outputs": [],
   "source": [
    "v1_eu_df"
   ]
  },
  {
   "cell_type": "code",
   "execution_count": null,
   "id": "dbf02788-b54b-4815-acae-52c1e1b662f1",
   "metadata": {},
   "outputs": [],
   "source": [
    "# Create a dataframe from a dictionary (here we use the predefined eu_dict)\n",
    "v2_eu_df = pd.DataFrame(eu_dict)\n",
    "v2_eu_df"
   ]
  },
  {
   "cell_type": "markdown",
   "id": "41b6dfc5-d986-4106-87dc-2866f9a16f43",
   "metadata": {},
   "source": [
    "#### Step 3 - Adding values to Pandas DataFrame\n",
    "- Understand the different in-built pandas function:\n",
    "    - pd.concat()\n",
    "    - df.append()\n",
    "    - df.iloc[]\n",
    "    - df.loc[]\n",
    "- Add a row to a dataframe\n",
    "- Add a column to a dataframe\n",
    "- What is a pandas serie"
   ]
  },
  {
   "cell_type": "code",
   "execution_count": null,
   "id": "64c20ae1-9e27-46eb-b9bc-8821b3cab362",
   "metadata": {},
   "outputs": [],
   "source": [
    "row_madrid = ['Madrid','Spain','ES']"
   ]
  },
  {
   "cell_type": "markdown",
   "id": "5b1a751d-19d4-42e2-90b1-7d3fc854c281",
   "metadata": {},
   "source": [
    "#### Overview - pd.concat()"
   ]
  },
  {
   "cell_type": "code",
   "execution_count": null,
   "id": "19ab6e7e-e5d1-4d7f-b392-5f00ee464407",
   "metadata": {
    "tags": []
   },
   "outputs": [],
   "source": [
    "# Add a list to a pandas Dataframe\n",
    "v2_eu_df_concat = pd.concat([v2_eu_df,row_madrid])\n",
    "v2_eu_df_concat"
   ]
  },
  {
   "cell_type": "code",
   "execution_count": null,
   "id": "4491136c-a1a5-49a6-870c-f112975b66f7",
   "metadata": {
    "tags": []
   },
   "outputs": [],
   "source": [
    "# Add a list to a pandas Dataframe\n",
    "v2_eu_df_concat = pd.concat([v2_eu_df,pd.Series(row_madrid)], ignore_index = True, axis = 0)\n",
    "v2_eu_df_concat"
   ]
  },
  {
   "cell_type": "markdown",
   "id": "51df5a0d-75d7-45b1-a1b4-7cefd27609dc",
   "metadata": {},
   "source": [
    "#### Overview - df.append() "
   ]
  },
  {
   "cell_type": "code",
   "execution_count": null,
   "id": "9999b52c-7ffe-4e8a-a133-77e902d6495d",
   "metadata": {
    "tags": []
   },
   "outputs": [],
   "source": [
    "v0_eu_df_append = v2_eu_df.append(row_madrid)\n",
    "v0_eu_df_append"
   ]
  },
  {
   "cell_type": "code",
   "execution_count": null,
   "id": "be3a53ef-5714-4063-a819-8ed81e6ddcf0",
   "metadata": {
    "tags": []
   },
   "outputs": [],
   "source": [
    "dict_madrid = {'city':'Madrid','country':'Spain','country_code':'ES'}\n",
    "v1_eu_df_append = v2_eu_df.append(dict_madrid)\n",
    "v1_eu_df_append"
   ]
  },
  {
   "cell_type": "code",
   "execution_count": null,
   "id": "3ee1e208-8601-4bbf-bb5d-e1c2652a43bf",
   "metadata": {
    "tags": []
   },
   "outputs": [],
   "source": [
    "dict_madrid = {'city':'Madrid','country':'Spain','country_code':'ES'}\n",
    "v1_eu_df_append = v2_eu_df.append(dict_madrid, ignore_index=True)\n",
    "v1_eu_df_append"
   ]
  }
 ],
 "metadata": {
  "kernelspec": {
   "display_name": "Python 3 (ipykernel)",
   "language": "python",
   "name": "python3"
  },
  "language_info": {
   "codemirror_mode": {
    "name": "ipython",
    "version": 3
   },
   "file_extension": ".py",
   "mimetype": "text/x-python",
   "name": "python",
   "nbconvert_exporter": "python",
   "pygments_lexer": "ipython3",
   "version": "3.9.6"
  }
 },
 "nbformat": 4,
 "nbformat_minor": 5
}

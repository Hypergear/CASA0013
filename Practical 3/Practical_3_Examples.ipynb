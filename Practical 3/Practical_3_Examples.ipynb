{
 "cells": [
  {
   "cell_type": "markdown",
   "id": "6c9bd894-f16e-419e-8d25-bf7ff9ea4d97",
   "metadata": {},
   "source": [
    "### Practical 3 - Foundations Part II\n",
    "- Review from last week. Built-in functions for Lists. \n",
    "- Understand Dictionaries \n",
    "- Thinking like a Programmer\n",
    "- Getting to know Data Structure"
   ]
  },
  {
   "cell_type": "markdown",
   "id": "0046f3ea-62bc-4d09-bc85-83f01d770a77",
   "metadata": {},
   "source": [
    "##### Example 1 - Play with Lists"
   ]
  },
  {
   "cell_type": "code",
   "execution_count": null,
   "id": "f1561239-d7d7-4a80-9f9f-de3fd5556bd5",
   "metadata": {},
   "outputs": [],
   "source": [
    "dir({})"
   ]
  },
  {
   "cell_type": "markdown",
   "id": "06b27d2e-7b0d-45fe-806c-16095b971ac2",
   "metadata": {},
   "source": [
    "##### Example 2 - Dictionaries\n",
    "- Difference between lists and dictionaries? \n",
    "    - Lists: Use _integers_ as indexes. list = []\n",
    "    - Dicts: Mutable Python container that stores mappings of unique keys to values. Cannot use _integers_ as indexes. Instead use *keys*. Contain multiple elements. dict = {}"
   ]
  },
  {
   "cell_type": "code",
   "execution_count": 16,
   "id": "ded428fb-b0b1-4152-9d1d-8fc26995b076",
   "metadata": {},
   "outputs": [],
   "source": [
    "cities = ['Bristol','London','Amsterdam','Roterdam','Zurich','Lausanne']\n",
    "temperatures = [1,2,3]\n",
    "city_abbreviation = ['BR','LND','AMS','RTD','ZH','LA'] "
   ]
  },
  {
   "cell_type": "code",
   "execution_count": 17,
   "id": "a0dc238f-027b-4f0d-8c1f-12dedd51419d",
   "metadata": {},
   "outputs": [
    {
     "name": "stdout",
     "output_type": "stream",
     "text": [
      "Length of cities: 6\n",
      "Length of temperatures: 3\n",
      "Length of city_abbreviation: 6\n"
     ]
    }
   ],
   "source": [
    "print('Length of cities: '+str(len(cities)))\n",
    "print('Length of temperatures: '+str(len(temperatures)))\n",
    "print('Length of city_abbreviation: '+str(len(city_abbreviation)))"
   ]
  },
  {
   "cell_type": "code",
   "execution_count": 18,
   "id": "81b00231-25e6-4f2c-99b1-2f6fb1037a40",
   "metadata": {},
   "outputs": [
    {
     "name": "stdout",
     "output_type": "stream",
     "text": [
      "[('Bristol', 1, 'BR'), ('London', 2, 'LND'), ('Amsterdam', 3, 'AMS')]\n"
     ]
    }
   ],
   "source": [
    "new_list = list(zip(cities, temperatures,city_abbreviation))\n",
    "print(new_list)"
   ]
  },
  {
   "cell_type": "code",
   "execution_count": 10,
   "id": "a0440dce-6ff3-414b-87f3-56929cd35258",
   "metadata": {},
   "outputs": [
    {
     "name": "stdout",
     "output_type": "stream",
     "text": [
      "Bristol\n",
      "Amsterdam\n",
      "Zurich\n"
     ]
    }
   ],
   "source": [
    "for items, city in cities:\n",
    "    print(\"Items:\" items)\n",
    "    #print(city)"
   ]
  },
  {
   "cell_type": "code",
   "execution_count": null,
   "id": "35cf89e5-a9c4-4da3-9fc0-44901cf7af98",
   "metadata": {},
   "outputs": [],
   "source": [
    "# What are different ways to create a dictionary?\n",
    "cities_name = {'Berlin':['Germany','DE'], \n",
    "          'Milan':['Italy','IT'],\n",
    "          'London':['England','UK']}\n",
    "\n",
    "cities_population = dict(Berlin=3.65, Milan=1.35, London=8.98)"
   ]
  },
  {
   "cell_type": "code",
   "execution_count": null,
   "id": "292502d7-0a11-4abc-a680-4aec1f38148f",
   "metadata": {},
   "outputs": [],
   "source": [
    "print(type(cities_name))\n",
    "print(type(cities_population))"
   ]
  },
  {
   "cell_type": "code",
   "execution_count": null,
   "id": "a67a7b77-87ac-4f68-aeb5-d5adba3c3d67",
   "metadata": {},
   "outputs": [],
   "source": [
    "cities.items()"
   ]
  },
  {
   "cell_type": "code",
   "execution_count": null,
   "id": "2eecd2ab-bfc2-4402-b4a6-678f4f51e8bc",
   "metadata": {},
   "outputs": [],
   "source": [
    "cities.values()"
   ]
  },
  {
   "cell_type": "code",
   "execution_count": null,
   "id": "10e14404-40ed-4b72-ab05-e04fea465ebf",
   "metadata": {},
   "outputs": [],
   "source": [
    "cities.keys()"
   ]
  },
  {
   "cell_type": "code",
   "execution_count": null,
   "id": "fd1b1026-fb5c-44f5-a02c-bf735f80f496",
   "metadata": {},
   "outputs": [],
   "source": [
    "opt_1 = [{'name':'Amsterdam','country':'NL'},\n",
    "        {'name':'Belfast','country':'UK'},\n",
    "        {'name':'Cork','country':'IE'}]"
   ]
  },
  {
   "cell_type": "code",
   "execution_count": null,
   "id": "f98d15d7-3289-47b2-8794-baa52048ea47",
   "metadata": {},
   "outputs": [],
   "source": [
    "type(opt_1)"
   ]
  },
  {
   "cell_type": "markdown",
   "id": "ce241bb5-3ee7-42dd-9294-ff5e2f2a5ec1",
   "metadata": {},
   "source": [
    "##### Example 3 - Iterate through lists"
   ]
  },
  {
   "cell_type": "code",
   "execution_count": null,
   "id": "b8c55278-164f-4151-9d37-65e08b1a15ce",
   "metadata": {},
   "outputs": [],
   "source": [
    "print(dir({}))"
   ]
  },
  {
   "cell_type": "code",
   "execution_count": null,
   "id": "51e404a2-6d44-4805-b756-9bfdbee7de19",
   "metadata": {},
   "outputs": [],
   "source": [
    "cities = {\n",
    "    'San Francisco': {\n",
    "        'lat': 37.77, \n",
    "        'lon': -122.43,\n",
    "        'airport': 'SFO'},\n",
    "    'London': {\n",
    "        'lat': 51.51, \n",
    "        'lon': -0.08, \n",
    "        'airport': 'LDN'},\n",
    "    'Paris': {\n",
    "        'lat': 48.86,\n",
    "        'lon': 2.29, \n",
    "        'airport': 'PAR'},\n",
    "    'Beijing': {\n",
    "        'lat': 39.92,\n",
    "        'lon': 116.40,\n",
    "        'airport': 'BEI'},\n",
    "    'Chennai': { \n",
    "        'lat': 13.08, \n",
    "        'lon': 80.28, \n",
    "        'airport': 'MAA'}\n",
    "}"
   ]
  },
  {
   "cell_type": "code",
   "execution_count": null,
   "id": "e135ec42-e9a3-4c2a-8158-f23fb2e05164",
   "metadata": {},
   "outputs": [],
   "source": [
    "#for key, value in cities.items():\n",
    "for key, value in cities.items():\n",
    "    city_name = key\n",
    "    city_airport = value['airport']\n",
    "    print(city_name + ' -> ' + str(city_airport))"
   ]
  },
  {
   "cell_type": "code",
   "execution_count": null,
   "id": "b5e02e72-f682-4b07-b457-fb4d747298fb",
   "metadata": {},
   "outputs": [],
   "source": [
    "for key in cities.keys():\n",
    "    city_name = key\n",
    "    lat = cities[key]['lat']\n",
    "    print(city_name + ' is at latitude ' + str(lat))"
   ]
  },
  {
   "cell_type": "code",
   "execution_count": null,
   "id": "c76c960e-79f1-438a-b16e-0fd6ef4377cb",
   "metadata": {},
   "outputs": [],
   "source": [
    "cities_alt = [\n",
    "    {'name':     'San Francisco',\n",
    "     'position': [37.77, -122.43],\n",
    "     'airport':  'SFO'},\n",
    "    {'name':     'London',\n",
    "     'position': [51.51, -0.08],\n",
    "     'airport':  'LDN'},\n",
    "    {'name':     'Paris',\n",
    "     'position': [48.86, 2.29],\n",
    "     'airport':  'PAR'},\n",
    "    {'name':     'Beijing',\n",
    "     'position': [39.92, 116.40],\n",
    "     'airport':  'BEI'},\n",
    "    {'name':     'Chennai', \n",
    "     'position': [13.08, 80.28],\n",
    "      'airport': 'MAA'}\n",
    "]"
   ]
  },
  {
   "cell_type": "code",
   "execution_count": null,
   "id": "d699ed7a-0c54-4fea-bc9e-2086c68f4bb6",
   "metadata": {},
   "outputs": [],
   "source": [
    "for key in cities_alt:\n",
    "    city_name = key['name']\n",
    "    lat = key['position'][0]\n",
    "    print(city_name + ' is at latitude ' + str(lat))"
   ]
  },
  {
   "cell_type": "markdown",
   "id": "1bbf7edf-6b3c-4ca2-97ed-e0c959a023aa",
   "metadata": {},
   "source": [
    "##### Example 4 - Import Data, Read remote file"
   ]
  },
  {
   "cell_type": "code",
   "execution_count": 7,
   "id": "994b2450-dbe0-4af6-8410-f841729f7e3c",
   "metadata": {},
   "outputs": [
    {
     "name": "stdout",
     "output_type": "stream",
     "text": [
      "datafile variable is of type: 'str'.\n",
      "\n"
     ]
    }
   ],
   "source": [
    "from urllib.request import urlopen\n",
    "\n",
    "# Given the info you were given above, what do you \n",
    "# think the value of 'url' should be? What\n",
    "# type of variable is it? int or string? \n",
    "url = 'https://github.com/jreades/i2p/raw/master/data/2020-08-24-sample-listings-simple.csv'\n",
    "\n",
    "# Read the URL stream into variable called 'response'\n",
    "# using the function that we imported above\n",
    "response = urlopen(url)\n",
    "\n",
    "# Now read from the stream, decoding so that we get actual text\n",
    "datafile = response.read().decode('utf-8')\n",
    "\n",
    "# You might want to explore what `__class__` and `__name__`\n",
    "# offer, but basically the give us a way of finding out what\n",
    "# is 'behind' more complex variables\n",
    "print(\"datafile variable is of type: '\" + datafile.__class__.__name__ + \"'.\\n\")"
   ]
  },
  {
   "cell_type": "code",
   "execution_count": 16,
   "id": "849fbea2-89e4-4cd4-a1f4-d2f0dc0ecb8c",
   "metadata": {},
   "outputs": [],
   "source": [
    "from urllib.request import urlopen\n",
    "import csv\n",
    "import pandas"
   ]
  },
  {
   "cell_type": "code",
   "execution_count": 18,
   "id": "696635e3-5b92-42e6-ac7e-ae7782419ede",
   "metadata": {},
   "outputs": [],
   "source": [
    "import math"
   ]
  },
  {
   "cell_type": "code",
   "execution_count": 23,
   "id": "c58c22f9-b17c-4aca-a63a-a9f6ba0a7e4f",
   "metadata": {},
   "outputs": [
    {
     "name": "stdout",
     "output_type": "stream",
     "text": [
      "Help on module math:\n",
      "\n",
      "NAME\n",
      "    math\n",
      "\n",
      "MODULE REFERENCE\n",
      "    https://docs.python.org/3.9/library/math\n",
      "    \n",
      "    The following documentation is automatically generated from the Python\n",
      "    source files.  It may be incomplete, incorrect or include features that\n",
      "    are considered implementation detail and may vary between Python\n",
      "    implementations.  When in doubt, consult the module reference at the\n",
      "    location listed above.\n",
      "\n",
      "DESCRIPTION\n",
      "    This module provides access to the mathematical functions\n",
      "    defined by the C standard.\n",
      "\n",
      "FUNCTIONS\n",
      "    acos(x, /)\n",
      "        Return the arc cosine (measured in radians) of x.\n",
      "        \n",
      "        The result is between 0 and pi.\n",
      "    \n",
      "    acosh(x, /)\n",
      "        Return the inverse hyperbolic cosine of x.\n",
      "    \n",
      "    asin(x, /)\n",
      "        Return the arc sine (measured in radians) of x.\n",
      "        \n",
      "        The result is between -pi/2 and pi/2.\n",
      "    \n",
      "    asinh(x, /)\n",
      "        Return the inverse hyperbolic sine of x.\n",
      "    \n",
      "    atan(x, /)\n",
      "        Return the arc tangent (measured in radians) of x.\n",
      "        \n",
      "        The result is between -pi/2 and pi/2.\n",
      "    \n",
      "    atan2(y, x, /)\n",
      "        Return the arc tangent (measured in radians) of y/x.\n",
      "        \n",
      "        Unlike atan(y/x), the signs of both x and y are considered.\n",
      "    \n",
      "    atanh(x, /)\n",
      "        Return the inverse hyperbolic tangent of x.\n",
      "    \n",
      "    ceil(x, /)\n",
      "        Return the ceiling of x as an Integral.\n",
      "        \n",
      "        This is the smallest integer >= x.\n",
      "    \n",
      "    comb(n, k, /)\n",
      "        Number of ways to choose k items from n items without repetition and without order.\n",
      "        \n",
      "        Evaluates to n! / (k! * (n - k)!) when k <= n and evaluates\n",
      "        to zero when k > n.\n",
      "        \n",
      "        Also called the binomial coefficient because it is equivalent\n",
      "        to the coefficient of k-th term in polynomial expansion of the\n",
      "        expression (1 + x)**n.\n",
      "        \n",
      "        Raises TypeError if either of the arguments are not integers.\n",
      "        Raises ValueError if either of the arguments are negative.\n",
      "    \n",
      "    copysign(x, y, /)\n",
      "        Return a float with the magnitude (absolute value) of x but the sign of y.\n",
      "        \n",
      "        On platforms that support signed zeros, copysign(1.0, -0.0)\n",
      "        returns -1.0.\n",
      "    \n",
      "    cos(x, /)\n",
      "        Return the cosine of x (measured in radians).\n",
      "    \n",
      "    cosh(x, /)\n",
      "        Return the hyperbolic cosine of x.\n",
      "    \n",
      "    degrees(x, /)\n",
      "        Convert angle x from radians to degrees.\n",
      "    \n",
      "    dist(p, q, /)\n",
      "        Return the Euclidean distance between two points p and q.\n",
      "        \n",
      "        The points should be specified as sequences (or iterables) of\n",
      "        coordinates.  Both inputs must have the same dimension.\n",
      "        \n",
      "        Roughly equivalent to:\n",
      "            sqrt(sum((px - qx) ** 2.0 for px, qx in zip(p, q)))\n",
      "    \n",
      "    erf(x, /)\n",
      "        Error function at x.\n",
      "    \n",
      "    erfc(x, /)\n",
      "        Complementary error function at x.\n",
      "    \n",
      "    exp(x, /)\n",
      "        Return e raised to the power of x.\n",
      "    \n",
      "    expm1(x, /)\n",
      "        Return exp(x)-1.\n",
      "        \n",
      "        This function avoids the loss of precision involved in the direct evaluation of exp(x)-1 for small x.\n",
      "    \n",
      "    fabs(x, /)\n",
      "        Return the absolute value of the float x.\n",
      "    \n",
      "    factorial(x, /)\n",
      "        Find x!.\n",
      "        \n",
      "        Raise a ValueError if x is negative or non-integral.\n",
      "    \n",
      "    floor(x, /)\n",
      "        Return the floor of x as an Integral.\n",
      "        \n",
      "        This is the largest integer <= x.\n",
      "    \n",
      "    fmod(x, y, /)\n",
      "        Return fmod(x, y), according to platform C.\n",
      "        \n",
      "        x % y may differ.\n",
      "    \n",
      "    frexp(x, /)\n",
      "        Return the mantissa and exponent of x, as pair (m, e).\n",
      "        \n",
      "        m is a float and e is an int, such that x = m * 2.**e.\n",
      "        If x is 0, m and e are both 0.  Else 0.5 <= abs(m) < 1.0.\n",
      "    \n",
      "    fsum(seq, /)\n",
      "        Return an accurate floating point sum of values in the iterable seq.\n",
      "        \n",
      "        Assumes IEEE-754 floating point arithmetic.\n",
      "    \n",
      "    gamma(x, /)\n",
      "        Gamma function at x.\n",
      "    \n",
      "    gcd(*integers)\n",
      "        Greatest Common Divisor.\n",
      "    \n",
      "    hypot(...)\n",
      "        hypot(*coordinates) -> value\n",
      "        \n",
      "        Multidimensional Euclidean distance from the origin to a point.\n",
      "        \n",
      "        Roughly equivalent to:\n",
      "            sqrt(sum(x**2 for x in coordinates))\n",
      "        \n",
      "        For a two dimensional point (x, y), gives the hypotenuse\n",
      "        using the Pythagorean theorem:  sqrt(x*x + y*y).\n",
      "        \n",
      "        For example, the hypotenuse of a 3/4/5 right triangle is:\n",
      "        \n",
      "            >>> hypot(3.0, 4.0)\n",
      "            5.0\n",
      "    \n",
      "    isclose(a, b, *, rel_tol=1e-09, abs_tol=0.0)\n",
      "        Determine whether two floating point numbers are close in value.\n",
      "        \n",
      "          rel_tol\n",
      "            maximum difference for being considered \"close\", relative to the\n",
      "            magnitude of the input values\n",
      "          abs_tol\n",
      "            maximum difference for being considered \"close\", regardless of the\n",
      "            magnitude of the input values\n",
      "        \n",
      "        Return True if a is close in value to b, and False otherwise.\n",
      "        \n",
      "        For the values to be considered close, the difference between them\n",
      "        must be smaller than at least one of the tolerances.\n",
      "        \n",
      "        -inf, inf and NaN behave similarly to the IEEE 754 Standard.  That\n",
      "        is, NaN is not close to anything, even itself.  inf and -inf are\n",
      "        only close to themselves.\n",
      "    \n",
      "    isfinite(x, /)\n",
      "        Return True if x is neither an infinity nor a NaN, and False otherwise.\n",
      "    \n",
      "    isinf(x, /)\n",
      "        Return True if x is a positive or negative infinity, and False otherwise.\n",
      "    \n",
      "    isnan(x, /)\n",
      "        Return True if x is a NaN (not a number), and False otherwise.\n",
      "    \n",
      "    isqrt(n, /)\n",
      "        Return the integer part of the square root of the input.\n",
      "    \n",
      "    lcm(*integers)\n",
      "        Least Common Multiple.\n",
      "    \n",
      "    ldexp(x, i, /)\n",
      "        Return x * (2**i).\n",
      "        \n",
      "        This is essentially the inverse of frexp().\n",
      "    \n",
      "    lgamma(x, /)\n",
      "        Natural logarithm of absolute value of Gamma function at x.\n",
      "    \n",
      "    log(...)\n",
      "        log(x, [base=math.e])\n",
      "        Return the logarithm of x to the given base.\n",
      "        \n",
      "        If the base not specified, returns the natural logarithm (base e) of x.\n",
      "    \n",
      "    log10(x, /)\n",
      "        Return the base 10 logarithm of x.\n",
      "    \n",
      "    log1p(x, /)\n",
      "        Return the natural logarithm of 1+x (base e).\n",
      "        \n",
      "        The result is computed in a way which is accurate for x near zero.\n",
      "    \n",
      "    log2(x, /)\n",
      "        Return the base 2 logarithm of x.\n",
      "    \n",
      "    modf(x, /)\n",
      "        Return the fractional and integer parts of x.\n",
      "        \n",
      "        Both results carry the sign of x and are floats.\n",
      "    \n",
      "    nextafter(x, y, /)\n",
      "        Return the next floating-point value after x towards y.\n",
      "    \n",
      "    perm(n, k=None, /)\n",
      "        Number of ways to choose k items from n items without repetition and with order.\n",
      "        \n",
      "        Evaluates to n! / (n - k)! when k <= n and evaluates\n",
      "        to zero when k > n.\n",
      "        \n",
      "        If k is not specified or is None, then k defaults to n\n",
      "        and the function returns n!.\n",
      "        \n",
      "        Raises TypeError if either of the arguments are not integers.\n",
      "        Raises ValueError if either of the arguments are negative.\n",
      "    \n",
      "    pow(x, y, /)\n",
      "        Return x**y (x to the power of y).\n",
      "    \n",
      "    prod(iterable, /, *, start=1)\n",
      "        Calculate the product of all the elements in the input iterable.\n",
      "        \n",
      "        The default start value for the product is 1.\n",
      "        \n",
      "        When the iterable is empty, return the start value.  This function is\n",
      "        intended specifically for use with numeric values and may reject\n",
      "        non-numeric types.\n",
      "    \n",
      "    radians(x, /)\n",
      "        Convert angle x from degrees to radians.\n",
      "    \n",
      "    remainder(x, y, /)\n",
      "        Difference between x and the closest integer multiple of y.\n",
      "        \n",
      "        Return x - n*y where n*y is the closest integer multiple of y.\n",
      "        In the case where x is exactly halfway between two multiples of\n",
      "        y, the nearest even value of n is used. The result is always exact.\n",
      "    \n",
      "    sin(x, /)\n",
      "        Return the sine of x (measured in radians).\n",
      "    \n",
      "    sinh(x, /)\n",
      "        Return the hyperbolic sine of x.\n",
      "    \n",
      "    sqrt(x, /)\n",
      "        Return the square root of x.\n",
      "    \n",
      "    tan(x, /)\n",
      "        Return the tangent of x (measured in radians).\n",
      "    \n",
      "    tanh(x, /)\n",
      "        Return the hyperbolic tangent of x.\n",
      "    \n",
      "    trunc(x, /)\n",
      "        Truncates the Real x to the nearest Integral toward 0.\n",
      "        \n",
      "        Uses the __trunc__ magic method.\n",
      "    \n",
      "    ulp(x, /)\n",
      "        Return the value of the least significant bit of the float x.\n",
      "\n",
      "DATA\n",
      "    e = 2.718281828459045\n",
      "    inf = inf\n",
      "    nan = nan\n",
      "    pi = 3.141592653589793\n",
      "    tau = 6.283185307179586\n",
      "\n",
      "FILE\n",
      "    /opt/conda/envs/sds2021/lib/python3.9/lib-dynload/math.cpython-39-x86_64-linux-gnu.so\n",
      "\n",
      "\n"
     ]
    }
   ],
   "source": [
    "help(math)"
   ]
  },
  {
   "cell_type": "code",
   "execution_count": 22,
   "id": "6c2a53ee-89a2-466f-a302-72899e1a5177",
   "metadata": {},
   "outputs": [],
   "source": [
    "from math import pi, cos"
   ]
  }
 ],
 "metadata": {
  "kernelspec": {
   "display_name": "Python 3 (ipykernel)",
   "language": "python",
   "name": "python3"
  },
  "language_info": {
   "codemirror_mode": {
    "name": "ipython",
    "version": 3
   },
   "file_extension": ".py",
   "mimetype": "text/x-python",
   "name": "python",
   "nbconvert_exporter": "python",
   "pygments_lexer": "ipython3",
   "version": "3.9.6"
  }
 },
 "nbformat": 4,
 "nbformat_minor": 5
}

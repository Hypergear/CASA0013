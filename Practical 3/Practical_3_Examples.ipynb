{
 "cells": [
  {
   "cell_type": "markdown",
   "id": "6c9bd894-f16e-419e-8d25-bf7ff9ea4d97",
   "metadata": {},
   "source": [
    "### Practical 3 - Foundations Part II\n",
    "- Review from last week. Built-in functions for Lists. \n",
    "- Understand Dictionaries \n",
    "- Thinking like a Programmer\n",
    "- Getting to know Data Structure"
   ]
  },
  {
   "cell_type": "markdown",
   "id": "0046f3ea-62bc-4d09-bc85-83f01d770a77",
   "metadata": {},
   "source": [
    "##### Example 1 - Play with Lists"
   ]
  },
  {
   "cell_type": "code",
   "execution_count": null,
   "id": "f1561239-d7d7-4a80-9f9f-de3fd5556bd5",
   "metadata": {},
   "outputs": [],
   "source": [
    "dir({})"
   ]
  },
  {
   "cell_type": "markdown",
   "id": "06b27d2e-7b0d-45fe-806c-16095b971ac2",
   "metadata": {},
   "source": [
    "##### Example 2 - Dictionaries\n",
    "- Difference between lists and dictionaries? \n",
    "    - Lists: Use _integers_ as indexes. list = []\n",
    "    - Dicts: Mutable Python container that stores mappings of unique keys to values. Cannot use _integers_ as indexes. Instead use *keys*. Contain multiple elements. dict = {}"
   ]
  },
  {
   "cell_type": "code",
   "execution_count": null,
   "id": "35cf89e5-a9c4-4da3-9fc0-44901cf7af98",
   "metadata": {},
   "outputs": [],
   "source": [
    "# What are different ways to create a dictionary?\n",
    "cities_name = {'Berlin':['Germany','DE'], \n",
    "          'Milan':['Italy','IT'],\n",
    "          'London':['England','UK']}\n",
    "\n",
    "cities_population = dict(Berlin=3.65, Milan=1.35, London=8.98)"
   ]
  },
  {
   "cell_type": "code",
   "execution_count": null,
   "id": "292502d7-0a11-4abc-a680-4aec1f38148f",
   "metadata": {},
   "outputs": [],
   "source": [
    "print(type(cities_name))\n",
    "print(type(cities_population))"
   ]
  },
  {
   "cell_type": "code",
   "execution_count": null,
   "id": "a67a7b77-87ac-4f68-aeb5-d5adba3c3d67",
   "metadata": {},
   "outputs": [],
   "source": [
    "cities.items()"
   ]
  },
  {
   "cell_type": "code",
   "execution_count": null,
   "id": "2eecd2ab-bfc2-4402-b4a6-678f4f51e8bc",
   "metadata": {},
   "outputs": [],
   "source": [
    "cities.values()"
   ]
  },
  {
   "cell_type": "code",
   "execution_count": null,
   "id": "10e14404-40ed-4b72-ab05-e04fea465ebf",
   "metadata": {},
   "outputs": [],
   "source": [
    "cities.keys()"
   ]
  },
  {
   "cell_type": "code",
   "execution_count": null,
   "id": "fd1b1026-fb5c-44f5-a02c-bf735f80f496",
   "metadata": {},
   "outputs": [],
   "source": [
    "opt_1 = [{'name':'Amsterdam','country':'NL'},\n",
    "        {'name':'Belfast','country':'UK'},\n",
    "        {'name':'Cork','country':'IE'}]"
   ]
  },
  {
   "cell_type": "code",
   "execution_count": null,
   "id": "f98d15d7-3289-47b2-8794-baa52048ea47",
   "metadata": {},
   "outputs": [],
   "source": [
    "type(opt_1)"
   ]
  },
  {
   "cell_type": "markdown",
   "id": "ce241bb5-3ee7-42dd-9294-ff5e2f2a5ec1",
   "metadata": {},
   "source": [
    "##### Example 3 - Iterate through lists"
   ]
  },
  {
   "cell_type": "code",
   "execution_count": null,
   "id": "b8c55278-164f-4151-9d37-65e08b1a15ce",
   "metadata": {},
   "outputs": [],
   "source": [
    "print(dir({}))"
   ]
  },
  {
   "cell_type": "code",
   "execution_count": null,
   "id": "51e404a2-6d44-4805-b756-9bfdbee7de19",
   "metadata": {},
   "outputs": [],
   "source": [
    "cities = {\n",
    "    'San Francisco': {\n",
    "        'lat': 37.77, \n",
    "        'lon': -122.43,\n",
    "        'airport': 'SFO'},\n",
    "    'London': {\n",
    "        'lat': 51.51, \n",
    "        'lon': -0.08, \n",
    "        'airport': 'LDN'},\n",
    "    'Paris': {\n",
    "        'lat': 48.86,\n",
    "        'lon': 2.29, \n",
    "        'airport': 'PAR'},\n",
    "    'Beijing': {\n",
    "        'lat': 39.92,\n",
    "        'lon': 116.40,\n",
    "        'airport': 'BEI'},\n",
    "    'Chennai': { \n",
    "        'lat': 13.08, \n",
    "        'lon': 80.28, \n",
    "        'airport': 'MAA'}\n",
    "}"
   ]
  },
  {
   "cell_type": "code",
   "execution_count": null,
   "id": "e135ec42-e9a3-4c2a-8158-f23fb2e05164",
   "metadata": {},
   "outputs": [],
   "source": [
    "#for key, value in cities.items():\n",
    "for key, value in cities.items():\n",
    "    city_name = key\n",
    "    city_airport = value['airport']\n",
    "    print(city_name + ' -> ' + str(city_airport))"
   ]
  },
  {
   "cell_type": "code",
   "execution_count": null,
   "id": "b5e02e72-f682-4b07-b457-fb4d747298fb",
   "metadata": {},
   "outputs": [],
   "source": [
    "for key in cities.keys():\n",
    "    city_name = key\n",
    "    lat = cities[key]['lat']\n",
    "    print(city_name + ' is at latitude ' + str(lat))"
   ]
  },
  {
   "cell_type": "code",
   "execution_count": null,
   "id": "c76c960e-79f1-438a-b16e-0fd6ef4377cb",
   "metadata": {},
   "outputs": [],
   "source": [
    "cities_alt = [\n",
    "    {'name':     'San Francisco',\n",
    "     'position': [37.77, -122.43],\n",
    "     'airport':  'SFO'},\n",
    "    {'name':     'London',\n",
    "     'position': [51.51, -0.08],\n",
    "     'airport':  'LDN'},\n",
    "    {'name':     'Paris',\n",
    "     'position': [48.86, 2.29],\n",
    "     'airport':  'PAR'},\n",
    "    {'name':     'Beijing',\n",
    "     'position': [39.92, 116.40],\n",
    "     'airport':  'BEI'},\n",
    "    {'name':     'Chennai', \n",
    "     'position': [13.08, 80.28],\n",
    "      'airport': 'MAA'}\n",
    "]"
   ]
  },
  {
   "cell_type": "code",
   "execution_count": null,
   "id": "d699ed7a-0c54-4fea-bc9e-2086c68f4bb6",
   "metadata": {},
   "outputs": [],
   "source": [
    "for key in cities_alt:\n",
    "    city_name = key['name']\n",
    "    lat = key['position'][0]\n",
    "    print(city_name + ' is at latitude ' + str(lat))"
   ]
  }
 ],
 "metadata": {
  "kernelspec": {
   "display_name": "Python 3 (ipykernel)",
   "language": "python",
   "name": "python3"
  },
  "language_info": {
   "codemirror_mode": {
    "name": "ipython",
    "version": 3
   },
   "file_extension": ".py",
   "mimetype": "text/x-python",
   "name": "python",
   "nbconvert_exporter": "python",
   "pygments_lexer": "ipython3",
   "version": "3.9.6"
  }
 },
 "nbformat": 4,
 "nbformat_minor": 5
}

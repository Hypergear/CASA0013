{
 "cells": [
  {
   "cell_type": "markdown",
   "id": "929eedb0-de83-485b-bba0-9f65d322b264",
   "metadata": {},
   "source": [
    "### Week 3 - Quizz"
   ]
  },
  {
   "cell_type": "code",
   "execution_count": 20,
   "id": "75be0802-f08f-41ae-8ca4-a9f4e33cac95",
   "metadata": {},
   "outputs": [],
   "source": [
    "def my_function(child3, child2, child1):\n",
    "    print(\"The youngest child is \" + child3)"
   ]
  },
  {
   "cell_type": "code",
   "execution_count": 21,
   "id": "4dce2686-5135-45d5-a807-9c2c5a64c9b9",
   "metadata": {},
   "outputs": [
    {
     "name": "stdout",
     "output_type": "stream",
     "text": [
      "The youngest child is Anna\n"
     ]
    }
   ],
   "source": [
    "example_1 = my_function('Anna','Mark','Ella') #Correct"
   ]
  },
  {
   "cell_type": "code",
   "execution_count": 17,
   "id": "2502b026-979c-422a-bb81-59af41df3a52",
   "metadata": {},
   "outputs": [],
   "source": [
    "def my_function(child3, child2, child1):\n",
    "    print(\"The youngest child is \" + child1) # change to call child1"
   ]
  },
  {
   "cell_type": "code",
   "execution_count": 18,
   "id": "79f51b0f-0db8-442b-8f03-f2f31cf58442",
   "metadata": {},
   "outputs": [
    {
     "name": "stdout",
     "output_type": "stream",
     "text": [
      "The youngest child is Mark\n"
     ]
    }
   ],
   "source": [
    "example_2 = my_function('Anna',child1='Mark',child2='Ella') #Correct"
   ]
  },
  {
   "cell_type": "code",
   "execution_count": 14,
   "id": "1cabed24-1682-4f92-b44f-18dd6db9397d",
   "metadata": {},
   "outputs": [
    {
     "ename": "SyntaxError",
     "evalue": "positional argument follows keyword argument (801375339.py, line 1)",
     "output_type": "error",
     "traceback": [
      "\u001b[0;36m  File \u001b[0;32m\"/tmp/ipykernel_1112/801375339.py\"\u001b[0;36m, line \u001b[0;32m1\u001b[0m\n\u001b[0;31m    example_3 = my_function(child3='Anna','Mark','Ella')\u001b[0m\n\u001b[0m                                                       ^\u001b[0m\n\u001b[0;31mSyntaxError\u001b[0m\u001b[0;31m:\u001b[0m positional argument follows keyword argument\n"
     ]
    }
   ],
   "source": [
    "example_3 = my_function(child3='Anna','Mark','Ella') \n",
    "# this is a tuple -> it misses 2 arguments (child2, child 1)"
   ]
  },
  {
   "cell_type": "code",
   "execution_count": 8,
   "id": "21792640-7c29-4313-be84-a7273e3b248e",
   "metadata": {},
   "outputs": [
    {
     "name": "stdout",
     "output_type": "stream",
     "text": [
      "The youngest child is Anna\n"
     ]
    }
   ],
   "source": [
    "example_4 = my_function(child3='Anna',child2='Mark',child1='Ella') #Correct"
   ]
  },
  {
   "cell_type": "code",
   "execution_count": 32,
   "id": "ed3d99f3-7f76-4e18-b1c9-a7c505e76f12",
   "metadata": {},
   "outputs": [
    {
     "name": "stdout",
     "output_type": "stream",
     "text": [
      "['Anna', 'Mark', 'Ella'] <class 'list'>\n",
      "('Anna', 'Mark', 'Ella') <class 'tuple'>\n"
     ]
    }
   ],
   "source": [
    "# Undersand the difference between lists and tuples!\n",
    "# Lists => Mutable\n",
    "# Tuples => Immutable\n",
    "child3_list = ['Anna','Mark','Ella'] # Don't forget [] to be a list\n",
    "child3_tuple = 'Anna','Mark','Ella' # Python directly interpret this as a tuple.\n",
    "\n",
    "print(str(child3_list) + \" \" + str(type(child3_list)))\n",
    "print(str(child3_tuple) + \" \" + str(type(child3_tuple)))\n"
   ]
  }
 ],
 "metadata": {
  "kernelspec": {
   "display_name": "Python 3 (ipykernel)",
   "language": "python",
   "name": "python3"
  },
  "language_info": {
   "codemirror_mode": {
    "name": "ipython",
    "version": 3
   },
   "file_extension": ".py",
   "mimetype": "text/x-python",
   "name": "python",
   "nbconvert_exporter": "python",
   "pygments_lexer": "ipython3",
   "version": "3.9.6"
  }
 },
 "nbformat": 4,
 "nbformat_minor": 5
}
